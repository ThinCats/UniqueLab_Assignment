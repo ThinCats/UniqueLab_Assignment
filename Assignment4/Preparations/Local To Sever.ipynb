{
 "cells": [
  {
   "cell_type": "markdown",
   "metadata": {},
   "source": [
    "1. Send encrypted b\"hello\""
   ]
  },
  {
   "cell_type": "code",
   "execution_count": null,
   "metadata": {},
   "outputs": [],
   "source": [
    "magic_bytes = b\"hello\"\n",
    "# Prepartion\n",
    "import cipher\n",
    "# Local\n",
    "hello_send_raw = cryptor.encrypt(magic_bytes)\n",
    "soc_to_srv.send(hello_send_raw)\n",
    "\n",
    "# Remote\n",
    "hello_recv_raw = soc_to_local.recv(4096)\n",
    "    # Sending packet:\n",
    "    # [ACCEPT] + [ORI_DATA]\n",
    "if cryptor.decrypt(hello_recv_raw) == magic_bytes:\n",
    "    hello_send_raw = b\"\\x00\" # ACCEPT\n",
    "else:\n",
    "    hello_send_raw = b\"\\x01\" # REFUSE\n",
    "    is_close = True\n",
    "soc_to_local.send(hello_send_raw + hello_recv_raw)\n",
    "if is_close:\n",
    "    soc_to_local.close()\n",
    "    return # End this request\n",
    "\n",
    "# Local\n",
    "hello_recv_raw = soc_local.recv(4096)\n",
    "if len(hello_recv_raw) == 1+len(magic_bytes) and hello_recv_raw[0] == 0:\n",
    "    # Accept\n",
    "    # Do connection\n",
    "else:\n",
    "    soc_to_srv.close()"
   ]
  },
  {
   "cell_type": "markdown",
   "metadata": {},
   "source": [
    "2. Send connection infomation"
   ]
  },
  {
   "cell_type": "code",
   "execution_count": null,
   "metadata": {},
   "outputs": [],
   "source": [
    "# Local\n",
    "    # 直接转发connection packet\n",
    "soc_local.send(cryptor.encrypt(connect_cli_recv_raw))\n",
    "connect_srv_recv_raw = cryptor.decrypt(soc_local.recv(4096))\n",
    "    # 发送回client\n",
    "soc_to_cli.send(connect_srv_recv_raw)\n",
    "    # 解析，查看status\n",
    "if connection_cli(connect_srv_recv_raw) == False:\n",
    "    # Close connection.\n",
    "    soc_to_srv.close()\n",
    "\n",
    "# Remote\n",
    "    # 解析并做出处理\n",
    "connect_loc_recv = soc_to_local.recv(4096)\n",
    "soc_to_remote, connect_loc_send = connection_srv(connect_loc_recv)\n",
    "if soc_to_remote is None:\n",
    "    # Ending\n",
    "    return # Ending request\n",
    "else:\n",
    "    # Continue\n",
    "    soc_to_local.send(connect_loc_send)\n",
    "    \n",
    "if tcp:\n",
    "    self._handle_tcp(...)\n",
    "# Response like SOCKS5"
   ]
  },
  {
   "cell_type": "markdown",
   "metadata": {},
   "source": []
  }
 ],
 "metadata": {
  "kernelspec": {
   "display_name": "Python 3",
   "language": "python",
   "name": "python3"
  },
  "language_info": {
   "codemirror_mode": {
    "name": "ipython",
    "version": 3
   },
   "file_extension": ".py",
   "mimetype": "text/x-python",
   "name": "python",
   "nbconvert_exporter": "python",
   "pygments_lexer": "ipython3",
   "version": "3.6.5"
  }
 },
 "nbformat": 4,
 "nbformat_minor": 2
}
